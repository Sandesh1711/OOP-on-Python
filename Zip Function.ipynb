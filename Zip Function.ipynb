{
 "cells": [
  {
   "cell_type": "markdown",
   "id": "2044f921",
   "metadata": {},
   "source": [
    "# Zip function\n"
   ]
  },
  {
   "cell_type": "code",
   "execution_count": 2,
   "id": "98e1235a",
   "metadata": {},
   "outputs": [],
   "source": [
    "# used to iterrate 2+ lists at the same time"
   ]
  },
  {
   "cell_type": "code",
   "execution_count": 3,
   "id": "43864363",
   "metadata": {},
   "outputs": [
    {
     "name": "stdout",
     "output_type": "stream",
     "text": [
      "1 5\n",
      "2 4\n",
      "3 3\n",
      "4 5\n",
      "5 6\n",
      "6 6\n"
     ]
    }
   ],
   "source": [
    "list1 = [1,2,3,4,5,6]\n",
    "list2 = [5,4,3,5,6,6,6,7,7]\n",
    "\n",
    "\n",
    "for a,b in zip(list1,list2):\n",
    "    print(a,b)\n"
   ]
  },
  {
   "cell_type": "code",
   "execution_count": null,
   "id": "d290010a",
   "metadata": {},
   "outputs": [],
   "source": []
  }
 ],
 "metadata": {
  "kernelspec": {
   "display_name": "Python 3 (ipykernel)",
   "language": "python",
   "name": "python3"
  },
  "language_info": {
   "codemirror_mode": {
    "name": "ipython",
    "version": 3
   },
   "file_extension": ".py",
   "mimetype": "text/x-python",
   "name": "python",
   "nbconvert_exporter": "python",
   "pygments_lexer": "ipython3",
   "version": "3.9.7"
  }
 },
 "nbformat": 4,
 "nbformat_minor": 5
}
